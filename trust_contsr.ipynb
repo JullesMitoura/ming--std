{
 "cells": [
  {
   "cell_type": "markdown",
   "metadata": {},
   "source": [
    "<img src = \"imgs/TeS_img.png\">"
   ]
  },
  {
   "cell_type": "markdown",
   "metadata": {},
   "source": [
    "---\n",
    "* Parte 01: Dados de entrada sobre o sistema reacional"
   ]
  },
  {
   "cell_type": "code",
   "execution_count": null,
   "metadata": {},
   "outputs": [],
   "source": [
    "\"\"\"\n",
    "Components considered:\n",
    "\n",
    "H2O\n",
    "CH4\n",
    "CO2\n",
    "CO\n",
    "H2\n",
    "\n",
    "\"\"\"\n",
    "\n",
    "# 1.1. Heat capacities\n",
    "\n",
    "# Information obtained from the book Introduction to Chemical Engineering Thermodynamics\n",
    "\n",
    "# Cp values\n",
    "\n",
    "         # CPA, CPB, CPC, CPD\n",
    "CP_data = [[3.47,0.00145,0,12100],               # H2O\n",
    "           [1.702,0.009081,-0.000002164,0],      # CH4\n",
    "           [5.457,0.001045,0,-115700],           # CO2\n",
    "           [3.376,0.000557,0,-3100],             # CO\n",
    "           [3.249,0.000422,0,8300]]              # H2"
   ]
  },
  {
   "cell_type": "markdown",
   "metadata": {},
   "source": [
    "O polinômio utilizado para o cálculo das capacidades caloríficas é apresentado na Equação 1.\n",
    "\n",
    "\\begin{equation}\n",
    "\\frac{C_p}{R} = a + b.T + c.T^2 + \\frac{D}{T^2} \\tag{Eq. 1}\n",
    "\\end{equation}\n",
    "\n",
    "Essa informação será relevante para o cálculo da energia de Gibbs padrão de formação em função da temperatura."
   ]
  },
  {
   "cell_type": "code",
   "execution_count": null,
   "metadata": {},
   "outputs": [],
   "source": [
    "# 1.2. Thermodynamic Properties of Formation\n",
    "\n",
    "# Information obtained from the book Introduction to Chemical Engineering Thermodynamics\n",
    "# deltaH - Enthalpy of formation at 298.15 K (J/mol)\n",
    "# deltaG - Gibbs energy of formation at 298.15 K (J/mol)\n",
    "\n",
    "           # deltaH, deltaG\n",
    "prop_form = [[-241818,-228572],    # H2O\n",
    "             [-74520,-50460],      # CH4\n",
    "             [-393509,-394359],    # CO2\n",
    "             [-110525,-137169],    # CO\n",
    "             [0, 0]]               # H2\n",
    "\n",
    "# 1.3. Thermodynamic Properties of Pure Components\n",
    "\n",
    "# Information obtained from the book Introduction to Chemical Engineering Thermodynamics\n",
    "# Tc - Critical temperature (K)\n",
    "# Pc - Critical pressure (bar)\n",
    "# omega - Acentric factor (-)\n",
    "\n",
    "           # Pc, Tc, omega\n",
    "prop_term = [[220.55,647.1,0.345],    # H2O\n",
    "             [45.99,190.6,0.012],     # CH4\n",
    "             [73.83,304.2,0.224],     # CO2\n",
    "             [34.99,132.9,0.048],     # CO\n",
    "             [13.13,33.19,-0.216]]    # H2"
   ]
  },
  {
   "cell_type": "markdown",
   "metadata": {},
   "source": [
    "Até este ponto fizemos a inserção das informações necessárias para os cálculos que faremos com o objetivo de minimizar a energia de Gibbs dos sistema.\n",
    "\n",
    "Como já dito, o objetivo é minimizar a energia de Gibbs e esta será escrita na forma de programação não-linear como apresenta a Equação 2.\n",
    "\n",
    "\\begin{equation}\n",
    "\\min G = \\sum_{i=1}^{NC} \\sum_{j=1}^{NF} n_i^j \\mu_i^j \\tag{Eq. 2}\n",
    "\\end{equation}"
   ]
  },
  {
   "cell_type": "markdown",
   "metadata": {},
   "source": [
    "---\n",
    "* Parte 02: Cálculo da energia de Gibbs"
   ]
  },
  {
   "cell_type": "markdown",
   "metadata": {},
   "source": [
    "Tendo as informações apresentadas na **Parte 01**, agora faremos o cálculo da energia de Gibbs. A Equação 3 apresentação a realção entra entalpia e capacidade calorífica.\n",
    "\n",
    "\\begin{equation}\n",
    "\\left( \\frac{\\partial \\bar{H}_i^g}{\\partial T} \\right) = C_{p,i}^g \\quad \\text{for } i=1,\\ldots,NC\n",
    "\n",
    " \\tag{Eq. 3}\n",
    "\\end{equation}\n",
    "\n",
    "\n",
    "\n",
    "Tendo conhecimento da realação da entalpia com a temperatura, o passo seguinte é o cálculo do potencial químico. A Equação 4 apresenta a correlação para o cálculo dos potenciais químicos.\n",
    "\n",
    "\\begin{equation}\n",
    "\\frac{\\partial}{\\partial T} \\left( \\frac{\\mu_i^g}{RT} \\right) = -\\frac{\\bar{H}_i^g}{RT^2} \\quad \\text{para } i=1,\\ldots,NC\n",
    " \\tag{Eq. 4}\n",
    "\\end{equation}\n",
    "\n",
    "Lembrando que o polinômio utilizado para o cálculo da capacidade calorífica foi apresentado na Equação 1.\n",
    "\n",
    "Assim, a função abaixo (**gibbs_pad**) calcula os potenciais químicos de acordo com a Equação 4."
   ]
  },
  {
   "cell_type": "code",
   "execution_count": null,
   "metadata": {},
   "outputs": [],
   "source": [
    "from scipy.integrate import quad\n",
    "\n",
    "def gibbs_pad(T, prop_form, CP_data):\n",
    "R = 8.314  # J/mol·K\n",
    "T0 = 298.15  # Reference temperature in Kelvin\n",
    "\n",
    "results = []\n",
    "\n",
    "# Iterate over formation properties and Cp data together\n",
    "for (deltaH, deltaG), (CPA, CPB, CPC, CPD) in zip(prop_form, CP_data):\n",
    "    # Define Cp(T_prime) function based on CP data\n",
    "    def cp(T_prime):\n",
    "        return R * (CPA + CPB * T_prime + CPC * T_prime ** 2 + CPD / T_prime ** 2)\n",
    "\n",
    "    # Inner integral\n",
    "    def inner_integral(T_prime):\n",
    "        value, _ = quad(cp, T0, T_prime)\n",
    "        return (deltaH + value) / T_prime ** 2\n",
    "\n",
    "    # Outer integral\n",
    "    integral_value, _ = quad(inner_integral, T0, T)\n",
    "\n",
    "    # Calculate mu_i using the provided formula\n",
    "    mu_i = T * (deltaG / T0 - integral_value)\n",
    "    \n",
    "    results.append(mu_i)\n",
    "\n",
    "return results"
   ]
  },
  {
   "cell_type": "markdown",
   "metadata": {},
   "source": [
    "A função acima faz o seguinte:\n",
    "\n",
    "\\begin{equation}\n",
    "\n",
    "\\mu _i^0 = \\frac {T}{T^0}.\\Delta G_f^{298.15 K} - T.\\int_{T_0}^{T} \\frac {\\Delta H_f^{298.15 K} + \\int_{T_0}^{T} (CPA + CPB \\cdot T + CPC \\cdot T^2 + \\frac{CPD}{T^2}) \\,}{T^2} dT\n",
    "\n",
    " \\tag{Eq. 5}\n",
    "\\end{equation}"
   ]
  },
  {
   "cell_type": "markdown",
   "metadata": {},
   "source": [
    "Bom, agora temos a função que calculo os potenciais químicos. Este código considera somente a formação de componente na fase *g*, assim, a função objetivo (Eq. 2) pode ser reescrita conforme apresena a Equação 6.\n",
    "\n",
    "\\begin{equation}\n",
    "\\min G = \\sum_{i=1}^{NC} n_i^g \\mu_i^g \\tag{Eq. 6}\n",
    "\\end{equation}\n",
    "\n",
    "Onde:\n",
    "\n",
    "\\begin{equation}\n",
    "\\mu _i^g = \\mu _i^0 + R.T.(ln(\\phi_i)+ln(P)+ln(y_i)) \\tag{Eq. 7}\n",
    "\\end{equation}"
   ]
  },
  {
   "cell_type": "markdown",
   "metadata": {},
   "source": [
    "Para os calculos dos coeficientes de fugacidade, teremos duas possibilidades:\n",
    "\n",
    "1. Gás ideal: \n",
    "\n",
    "\\begin{equation}\n",
    "\\phi = 1 \n",
    "\\tag{Eq. 8}\n",
    "\\end{equation}\n",
    "\n",
    "2. Gás não ideal:\n",
    "\n",
    "Será utilizada a equação de estado de Peng-Robinson.\n",
    "\n",
    "\\begin{equation}\n",
    "\n",
    "\\ln\\phi = \\left(\\frac{b_\\alpha}{b}\\right) (Z_\\text{vapor} - 1) - \\ln(Z_\\text{vapor} - B) + \\frac{A}{2\\sqrt{2} B} \\ln\\left(\\frac{Z_\\text{vapor} + (1 + \\sqrt{2}) B}{Z_\\text{vapor} + (1 - \\sqrt{2}) B}\\right)\n",
    "\\tag{Eq. 9}\n",
    "\\end{equation}\n",
    "\n",
    "Serão calculadas as raízes de Z que é escrito na forma de um polinômio com os coeficientes descritos abaixo:\n",
    "\n",
    "$$[1, -1, A - B - B^2, -A \\cdot B]$$\n",
    "\n",
    "Assim, será utilizada a raizes positivo do polinômio de Z e esta será utilizada na Equação 9 para o cálculo do coeficiente de fugacidade.\n",
    "\n",
    "A função abaixo (**fug**) calcula os coeficientes de fugacidade:"
   ]
  },
  {
   "cell_type": "code",
   "execution_count": null,
   "metadata": {},
   "outputs": [],
   "source": [
    "import numpy as np\n",
    "\n",
    "def fug(T, P, eq, n, prop_term):\n",
    "   P = P * 100000  # bar -> Pa\n",
    "   mole_fractions = n / sum(n)\n",
    "\n",
    "   # Calculate mixture properties\n",
    "   Tc = np.dot(mole_fractions, [pt[1] for pt in prop_term])  # Critical temperature\n",
    "   Pc = np.dot(mole_fractions, [pt[0] for pt in prop_term]) * 100000  # Critical pressure converted from bar to Pa\n",
    "   omega = np.dot(mole_fractions, [pt[2] for pt in prop_term])  # Acentric factor\n",
    "   \n",
    "   R = 8.314  # J/(mol*K)\n",
    "   \n",
    "   if eq == 'ideal':\n",
    "       res = 1  # For ideal gas, fugacity coefficient is 1\n",
    "\n",
    "   elif eq == 'peng_robinson':\n",
    "       Tr = T / Tc\n",
    "       Pr = P / Pc\n",
    "       kappa = 0.37464 + 1.54226 * omega - 0.26992 * omega**2\n",
    "       alpha = (1 + kappa * (1 - np.sqrt(Tr)))**2\n",
    "       a = 0.45724 * (R**2 * Tc**2) / Pc\n",
    "       b = 0.07780 * R * Tc / Pc\n",
    "       a_alpha = a * alpha\n",
    "       A = a_alpha * P / (R**2 * T**2)\n",
    "       B = b * P / (R * T)\n",
    "       \n",
    "       # Calculate Z (compressibility factor)\n",
    "       coefficients = [1, -1 + B, A - 3*B**2, -A*B + B**2 + B**3]\n",
    "       Z_roots = np.roots(coefficients)\n",
    "       Z = max(Z_roots[np.isreal(Z_roots)])\n",
    "       \n",
    "       # Calculate fugacity coefficient\n",
    "       ln_phi = (b / (b * R * T)) * (Z - 1) - np.log(Z - B)\n",
    "       ln_phi -= A / (2 * np.sqrt(2) * B) * np.log((Z + (1 + np.sqrt(2)) * B) / (Z + (1 - np.sqrt(2)) * B))\n",
    "       res = np.exp(ln_phi)\n",
    "\n",
    "   return res"
   ]
  },
  {
   "cell_type": "markdown",
   "metadata": {},
   "source": [
    "Temos a função que calcula a energia de Gibbs padrão e temos também a função para o cálculo dos coeficientes de fugacidade. O passo seguinte será definir a rotina de otimização.\n",
    "\n",
    "* Passo 03: Minimização da energia de Gibbs\n",
    "\n",
    "* 3.1. Definindo a função objetivo:"
   ]
  },
  {
   "cell_type": "code",
   "execution_count": null,
   "metadata": {},
   "outputs": [],
   "source": [
    "def gibbs(n, T, P):\n",
    "   R = 8.314  # J/mol·K\n",
    "   eq = 'peng_robinson'\n",
    "\n",
    "   # Ensure n has no null or negative values to avoid errors in logarithm calculations\n",
    "   for i in range(n.shape[0]):\n",
    "           if n[i] <= 0:\n",
    "               n[i] = 1e-20\n",
    "\n",
    "   # Calculate standard Gibbs formation energy from gibbs_pad function\n",
    "   dfg_gas = gibbs_pad(T, prop_form, CP_data)\n",
    "\n",
    "   # Calculate fugacity coefficient for each component in the mixture\n",
    "   phii = fug(T, P, eq, n, prop_term)\n",
    "\n",
    "   # Calculate chemical potential mi for gases in the mixture\n",
    "   mi_gas = dfg_gas + R * T * (np.log(phii) + np.log(n / np.sum(n)) + np.log(P))\n",
    "\n",
    "   # Calculate total Gibbs energy\n",
    "   total_gibbs = np.sum(mi_gas * n)\n",
    "\n",
    "   return total_gibbs"
   ]
  },
  {
   "cell_type": "markdown",
   "metadata": {},
   "source": [
    "* 3.2. Definição das restrições:\n",
    "\n",
    "Conhecemos a função objetivo (Eq. 2), agora precisamos definir as restrições para direcionar a busca pela solução.\n",
    "\n",
    "O espaço de possíveis soluções deve ser restrito a duas condições:\n",
    "\n",
    "1. Não negatividade de mols:\n",
    "\n",
    "$$ n_i^j \\geq 0 $$\n",
    "\n",
    "2. Conservação do número de átomos:\n",
    "\n",
    "$$ \\sum _{i}^{NC} a_{mi} (\\sum _{j}^{NF} n_i^j) =  \\sum _{i}^{NC} a_{mi} n_i^0 $$\n",
    "\n",
    "\n",
    "Escrevendo a primeira restrição:"
   ]
  },
  {
   "cell_type": "code",
   "execution_count": null,
   "metadata": {},
   "outputs": [],
   "source": [
    "# Initial amount of moles per component:\n",
    "#    H2O CH4 CO2 CO H2\n",
    "n0 = [1,  0.5,  0,  0, 0]\n",
    "\n",
    "max_C = 0*n0[0]+1*n0[1]+1*n0[2]+1*n0[3]+0*n0[4]\n",
    "max_H = 2*n0[0]+4*n0[1]+0*n0[2]+0*n0[3]+2*n0[4]\n",
    "max_O = 1*n0[0]+0*n0[1]+2*n0[2]+1*n0[3]+0*n0[4] \n",
    "\n",
    "max_H2O = min(max_O, max_H/2)\n",
    "max_CH4 = min(max_C, max_H/4)\n",
    "max_CO2 = min(max_C, max_O/2)\n",
    "max_CO = min(max_C, max_O)\n",
    "max_H2 = max_H/2\n",
    "\n",
    "bnds = ((0, max_H2O), \n",
    "       (0, max_CH4), \n",
    "       (0, max_CO2), \n",
    "       (0, max_CO), \n",
    "       (0, max_H2))"
   ]
  },
  {
   "cell_type": "markdown",
   "metadata": {},
   "source": [
    "No caso acima não só definimos a não negatividade de números de mols, definimos também os limites de formação dos componentes com base na quantidade de átomos.\n",
    "\n",
    "Escrevendo a segunda restrição:"
   ]
  },
  {
   "cell_type": "code",
   "execution_count": null,
   "metadata": {},
   "outputs": [],
   "source": [
    "# Initially, define the matrix with the structures of the components involved in the reaction:\n",
    "def element_balance(n,n0):\n",
    "                          # C  H  O\n",
    "   A = np.array([\n",
    "                           [0, 2, 1],  # H2O\n",
    "                           [1, 4, 0],  # CH4\n",
    "                           [1, 0, 2],  # CO2\n",
    "                           [1, 0, 1],  # CO\n",
    "                           [0, 2, 0]   # H2\n",
    "                       ])\n",
    "   return np.matmul(n, A) - np.matmul(n0, A)\n",
    "\n",
    "# The constraint:\n",
    "cons = [{'type': 'eq', 'fun': element_balance, 'args': [n0]}]"
   ]
  },
  {
   "cell_type": "markdown",
   "metadata": {},
   "source": [
    "Assim, definimos ambas as restrições necessárias. Iniciaremos agora a etapa de otimização.\n",
    "\n",
    "3.3. Otimização:\n",
    "\n",
    "Utilizaremos a biblioteca `scipy.optimize`."
   ]
  },
  {
   "cell_type": "code",
   "execution_count": 8,
   "metadata": {},
   "outputs": [],
   "source": [
    "# Definindo as variáveis de entrada\n",
    "\n",
    "Tmin = 773\n",
    "Tmax = 1273\n",
    "ntemp = 30\n",
    "\n",
    "P = 10\n",
    "T = np.linspace(Tmin,Tmax,ntemp) # T in K"
   ]
  },
  {
   "cell_type": "code",
   "execution_count": null,
   "metadata": {},
   "outputs": [
    {
     "name": "stderr",
     "output_type": "stream",
     "text": [
      "/Users/mitoura/Desktop/Repositories/TeS--profcode/.venv/lib/python3.11/site-packages/scipy/optimize/_differentiable_functions.py:728: UserWarning: delta_grad == 0.0. Check if the approximated function is linear. If the function is linear better results can be obtained by defining the Hessian as zero instead of using quasi-Newton approximations.\n",
      "  self.H.update(delta_x, delta_g)\n",
      "/Users/mitoura/Desktop/Repositories/TeS--profcode/.venv/lib/python3.11/site-packages/scipy/optimize/_differentiable_functions.py:376: UserWarning: delta_grad == 0.0. Check if the approximated function is linear. If the function is linear better results can be obtained by defining the Hessian as zero instead of using quasi-Newton approximations.\n",
      "  self.H.update(self.x - self.x_prev, self.g - self.g_prev)\n"
     ]
    }
   ],
   "source": [
    "from scipy.optimize import minimize\n",
    "import pandas as pd\n",
    "\n",
    "result = []\n",
    "temperature = []\n",
    "\n",
    "init = [0.5]*5\n",
    "\n",
    "# Defining input variables\n",
    "\n",
    "Tmin = 773\n",
    "Tmax = 1273\n",
    "ntemp = 30\n",
    "\n",
    "P = 10\n",
    "T = np.linspace(Tmin,Tmax,ntemp) # T in K\n",
    "\n",
    "for j in range(len(T)):\n",
    "   \n",
    "   # Perform the optimization.\n",
    "   sol = minimize(gibbs, init, args=(T[j], P), \n",
    "                   method='trust-constr', bounds=bnds, \n",
    "                   constraints=cons, options={'disp': False, 'maxiter': 1000})\n",
    "\n",
    "   result.append(sol.x)\n",
    "   temperature.append(T[j])\n",
    "\n",
    "Componentes = ['H2O','CH4','CO2','CO','H2']\n",
    "results = pd.DataFrame(result, columns=Componentes)\n",
    "results['Temperature (K)'] = temperature"
   ]
  },
  {
   "cell_type": "markdown",
   "metadata": {},
   "source": [
    "* Verificação do número de mols em função da temperatura:"
   ]
  },
  {
   "cell_type": "code",
   "execution_count": null,
   "metadata": {},
   "outputs": [
    {
     "data": {
      "image/png": "[encoded data removed]",
      "text/plain": [
       "<Figure size 600x400 with 1 Axes>"
      ]
     },
     "metadata": {},
     "output_type": "display_data"
    }
   ],
   "source": [
    "import matplotlib.pyplot as plt\n",
    "\n",
    "# Setting 'Temperature (K)' as the DataFrame index, if not already set.\n",
    "results.set_index('Temperature (K)', inplace=True)\n",
    "\n",
    "# Starting the matplotlib figure\n",
    "plt.figure(figsize=(6, 4))\n",
    "\n",
    "# Plotting each column\n",
    "for column in results.columns:\n",
    "   plt.plot(results.index, results[column], label=column)\n",
    "\n",
    "# Adding labels and title\n",
    "plt.xlabel('Temperature (K)')\n",
    "plt.ylabel('Mols')\n",
    "\n",
    "# Adding the legend. 'loc' can be changed to position the legend where desired.\n",
    "plt.legend(loc='upper left')\n",
    "\n",
    "# Showing the plot\n",
    "plt.grid()\n",
    "plt.show()"
   ]
  }
 ],
 "metadata": {
  "kernelspec": {
   "display_name": ".venv",
   "language": "python",
   "name": "python3"
  },
  "language_info": {
   "codemirror_mode": {
    "name": "ipython",
    "version": 3
   },
   "file_extension": ".py",
   "mimetype": "text/x-python",
   "name": "python",
   "nbconvert_exporter": "python",
   "pygments_lexer": "ipython3",
   "version": "3.11.0"
  }
 },
 "nbformat": 4,
 "nbformat_minor": 2
}
